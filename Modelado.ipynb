{
  "nbformat": 4,
  "nbformat_minor": 0,
  "metadata": {
    "colab": {
      "name": "Modelado.ipynb",
      "provenance": [],
      "collapsed_sections": [],
      "authorship_tag": "ABX9TyPs1/fsCCEeRX3ncMeKnUuf",
      "include_colab_link": true
    },
    "kernelspec": {
      "name": "python3",
      "display_name": "Python 3"
    },
    "language_info": {
      "name": "python"
    }
  },
  "cells": [
    {
      "cell_type": "markdown",
      "metadata": {
        "id": "view-in-github",
        "colab_type": "text"
      },
      "source": [
        "<a href=\"https://colab.research.google.com/github/oscarjose9423/Modelling/blob/main/Modelado.ipynb\" target=\"_parent\"><img src=\"https://colab.research.google.com/assets/colab-badge.svg\" alt=\"Open In Colab\"/></a>"
      ]
    },
    {
      "cell_type": "markdown",
      "metadata": {
        "id": "jqaxYsABGdbB"
      },
      "source": [
        "\n",
        "<h1> Modelado  </h1>\n",
        "\n",
        "Este documento hace parte de la presentación de los modelos empleados para el desarrollo del proyecto de innovación agrícola y pecuaria. Se plantea la metodología empleada por mi para el desarrollo de los diferentes no solo para especies pecuarias como aves de corral, cerdos y ovejos si no también agricolas representativas de la región de ejecución del proyecto."
      ]
    },
    {
      "cell_type": "markdown",
      "metadata": {
        "id": "4j7hwO-MGit0"
      },
      "source": [
        "<p><a name=\"contents\"></a></p>\n",
        "\n",
        "# Contenido \n",
        "\n",
        "- <a href=\"#colabIntro\">1. Modelo de producción acumulada sigmoide </a><br>\n",
        "- <a href=\"#pythonIntro\">2. Modelo de clasificación para especies de ovejo</a><br>\n"
      ]
    },
    {
      "cell_type": "code",
      "metadata": {
        "id": "uwrc5e5Jy_GZ"
      },
      "source": [
        ""
      ],
      "execution_count": null,
      "outputs": []
    },
    {
      "cell_type": "markdown",
      "metadata": {
        "id": "gPg3AZpbGn5M"
      },
      "source": [
        "<p><a name=\"colabIntro\"></a></p>\n",
        "\n",
        "# 1)  Modelo de producción acumulada sigmoide\n",
        "\n",
        "La limpieza de datos representa uno de los pasos esenciales en el desarrollo de modelos, ya que al contar con datos faltantes o elementos extraños los algortimos para la convergencia del modelo no trabajarán correctamentefrom google.colab import files\n",
        "uploaded = files.upload()"
      ]
    },
    {
      "cell_type": "code",
      "metadata": {
        "colab": {
          "resources": {
            "http://localhost:8080/nbextensions/google.colab/files.js": {
              "data": "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",
              "ok": true,
              "headers": [
                [
                  "content-type",
                  "application/javascript"
                ]
              ],
              "status": 200,
              "status_text": ""
            }
          },
          "base_uri": "https://localhost:8080/",
          "height": 72
        },
        "id": "b3dTUCpoLJ3A",
        "outputId": "5eb2bdfd-5f25-4025-c0ea-dc5f6935af71"
      },
      "source": [
        "from google.colab import files\n",
        "import pandas as pd\n",
        "import io\n",
        "\n",
        "uploaded = files.upload()"
      ],
      "execution_count": 4,
      "outputs": [
        {
          "output_type": "display_data",
          "data": {
            "text/html": [
              "\n",
              "     <input type=\"file\" id=\"files-a57cf929-36d8-4905-ae99-c9dc5019eb51\" name=\"files[]\" multiple disabled\n",
              "        style=\"border:none\" />\n",
              "     <output id=\"result-a57cf929-36d8-4905-ae99-c9dc5019eb51\">\n",
              "      Upload widget is only available when the cell has been executed in the\n",
              "      current browser session. Please rerun this cell to enable.\n",
              "      </output>\n",
              "      <script src=\"/nbextensions/google.colab/files.js\"></script> "
            ],
            "text/plain": [
              "<IPython.core.display.HTML object>"
            ]
          },
          "metadata": {
            "tags": []
          }
        },
        {
          "output_type": "stream",
          "text": [
            "Saving Consolidado agrícola exp. a feb 2020.xlsx - Hoja1.csv to Consolidado agrícola exp. a feb 2020.xlsx - Hoja1.csv\n"
          ],
          "name": "stdout"
        }
      ]
    },
    {
      "cell_type": "markdown",
      "metadata": {
        "id": "YhDyBipmbmtg"
      },
      "source": [
        "* Lectura de archivos \n"
      ]
    },
    {
      "cell_type": "code",
      "metadata": {
        "colab": {
          "base_uri": "https://localhost:8080/"
        },
        "id": "UMWn6_Z9MTNb",
        "outputId": "19d676d1-8d37-4943-a5f8-8ff20d377e31"
      },
      "source": [
        "agricola = pd.read_csv(io.StringIO(uploaded['Consolidado agrícola exp. a feb 2020.xlsx - Hoja1.csv'].decode('utf-8')))\n",
        "print(agricola.sample(10))"
      ],
      "execution_count": 15,
      "outputs": [
        {
          "output_type": "stream",
          "text": [
            "         FECHA   NOMBREPARTICIPANTE      CEDULA  ...        VEREDA ESPECIES     KG\n",
            "302  20/1/2020        ISIDORO PEREZ    10166157  ...      VILLARAZ     MAIZ     48\n",
            "44   19/8/2019    ALBA LUCIA PULIDO    40081962  ...     Santander     MAIZ    151\n",
            "41   18/2/2020  JUDY MARCELA DUSSAN    40612658  ...     SANTANDER  AHUYAMA    1,8\n",
            "295  20/1/2020         SALOMON DIAZ     4960451  ...      VILLARAZ     YUCA     62\n",
            "117  19/8/2019           JAIRO AROS    79379798  ...     Santander     YUCA    371\n",
            "27   15/5/2019    REINALDO CASANOVA    17624174  ...  La Esperenza     YUCA  132,8\n",
            "359  15/7/2019         JORGE GARCIA     7727182  ...     La Arabia     YUCA   88,5\n",
            "376   6/6/2019      SABARAIN DUARTE    96329995  ...    Guadualito  AHUYAMA   87,5\n",
            "171  20/1/2020        ALFONSO LOPEZ  1083870570  ...  SANTANDER II     MAIZ    120\n",
            "105  19/9/2019         GLADYS GUACA    26640820  ...     La Granja     YUCA     78\n",
            "\n",
            "[10 rows x 8 columns]\n"
          ],
          "name": "stdout"
        }
      ]
    },
    {
      "cell_type": "markdown",
      "metadata": {
        "id": "t7VwZTSpOxxZ"
      },
      "source": [
        "* Importación de librerias necesarias para el desarrollo de modelos de aprendizaje automático:"
      ]
    },
    {
      "cell_type": "code",
      "metadata": {
        "id": "gS_y3NGXHn1g"
      },
      "source": [
        "import pandas as pd\n",
        "import numpy as np\n",
        "import seaborn as sns\n",
        "import matplotlib.pyplot as plt\n",
        "\n",
        "from pandas.plotting import scatter_matrix\n",
        "\n",
        "from scipy import stats\n",
        "from scipy.stats import skewtest, levene # NO FUNCIONA SI SE TIENE NA\n",
        "from sklearn.datasets import load_iris # grafica de violines\n",
        "from sklearn.impute import SimpleImputer# imputador para relleno de NaN\n",
        "from sklearn.model_selection import train_test_split # uso de datos de entranmiento\n",
        "from sklearn.model_selection import StratifiedShuffleSplit # division de datos de entranmiento cuando no se tiene relación entre los indices para x & y\n",
        "from sklearn.preprocessing import OrdinalEncoder # codificación de variables categóricas multiclase\n",
        "from sklearn.preprocessing import OneHotEncoder # codificación de variables categoricas binarias\n",
        "from sklearn.preprocessing import MinMaxScaler # escalado de caracteristicas o normalización\n",
        "from sklearn.preprocessing import StandardScaler # estandarización\n",
        "from sklearn.preprocessing import PolynomialFeatures # para hacer conversion de variable regresora\n",
        "                                                     # a exponencial, segun grado de polinomio\n",
        "from sklearn.linear_model import ElasticNet # redes elastícas combinanción de ridge & laso\n",
        "                                            # doble penalizaición de los pesos\n",
        "from sklearn.pipeline import Pipeline # <<<< permite realizar varios procesos en una sola linea\n",
        "\n",
        "''' ############ lIBRERIAS MODELADO ###############'''\n",
        "from sklearn.linear_model import ElasticNet\n",
        "from sklearn.linear_model import Ridge\n",
        "from sklearn.linear_model import Lasso\n",
        "from sklearn.linear_model import LinearRegression\n",
        "''' ##### VALIDACION CRUZADA ######'''\n",
        "from sklearn.model_selection import cross_val_score\n",
        "\n",
        "from sklearn import metrics #METRICAS MSE RMSE MAE R2\n",
        "import statsmodels.api as sm\n",
        "from statsmodels.formula.api import ols # ORDINAL LINE SQUARE\n",
        "\n",
        "from statsmodels.stats.multicomp import pairwise_tukeyhsd\n",
        "from statsmodels.stats.multicomp import MultiComparison"
      ],
      "execution_count": null,
      "outputs": []
    },
    {
      "cell_type": "code",
      "metadata": {
        "id": "Bpwj90k4PM21"
      },
      "source": [
        "agricola = agricola.sort_values(by = 'FECHA')\n",
        "agricola.set_index('FECHA', inplace = True) #Importante Inplace para que realice cambios\n",
        "agricola.reset_index(inplace = True)"
      ],
      "execution_count": null,
      "outputs": []
    },
    {
      "cell_type": "markdown",
      "metadata": {
        "id": "aUc28Pv3ilvT"
      },
      "source": [
        "* Se imprimen los tipos de variables para validar su correspodencia"
      ]
    },
    {
      "cell_type": "code",
      "metadata": {
        "id": "ODyio2mXiqpP"
      },
      "source": [
        "print(agricola.dtypes)\n",
        "\n",
        "# CONVERSION A TIPO FECHA\n",
        "agricola.FECHA = pd.to_datetime(agricola.FECHA)\n",
        "\n",
        "# CONVERSION TIPO FLOTANTE KG\n",
        "for i in range(len(agricola.KG)):\n",
        "    agricola.KG[i] = agricola.KG[i].replace(\",\", \"\")\n",
        "agricola.KG = agricola.KG.astype('float')\n",
        "\n",
        "# VERIFIACIÓN\n",
        "print(agricola.dtypes)"
      ],
      "execution_count": null,
      "outputs": []
    },
    {
      "cell_type": "markdown",
      "metadata": {
        "id": "Bbo6spugj3z4"
      },
      "source": [
        "* Se validan los datos nulos y Not a Number (NaN)"
      ]
    },
    {
      "cell_type": "code",
      "metadata": {
        "id": "mlzcVICUj2jz"
      },
      "source": [
        "print(agricola.isnull().sum())\n",
        "print('-'*23)\n",
        "print(agricola.isna().sum())"
      ],
      "execution_count": null,
      "outputs": []
    },
    {
      "cell_type": "markdown",
      "metadata": {
        "id": "b3uoAQINx8mO"
      },
      "source": [
        "* Datos para la elaboración del modelo"
      ]
    },
    {
      "cell_type": "code",
      "metadata": {
        "id": "punNCHCivtYQ"
      },
      "source": [
        "yuca = yuca.groupby('FECHA', as_index = False).KG.mean()\n",
        "\n",
        "yuca['ACUMULADO'] = yuca.KG.cumsum()\n",
        "\n",
        "yuca['TIEMPO'] = [i.timestamp() for i in yuca.FECHA]\n",
        "\n",
        "\n",
        "x_data, y_data = (yuca[\"TIEMPO\"].values, yuca[\"ACUMULADO\"].values)\n"
      ],
      "execution_count": 108,
      "outputs": []
    },
    {
      "cell_type": "markdown",
      "metadata": {
        "id": "F-QmM_FKyGZQ"
      },
      "source": [
        "*  Gráfica\n",
        "\n",
        "El análisis gráfico representa elementos valiosos, ya que se puede identificar el tipo de modelo a emplear"
      ]
    },
    {
      "cell_type": "code",
      "metadata": {
        "colab": {
          "base_uri": "https://localhost:8080/",
          "height": 278
        },
        "id": "C_FpclK_yJXr",
        "outputId": "8cd6dab9-9d41-48c3-edbf-a33fc64bc1a5"
      },
      "source": [
        "plt.scatter('TIEMPO', 'ACUMULADO', data = yuca)\n",
        "plt.show()"
      ],
      "execution_count": 123,
      "outputs": [
        {
          "output_type": "display_data",
          "data": {
            "image/png": "[encoded data removed]",
            "text/plain": [
              "<Figure size 432x288 with 1 Axes>"
            ]
          },
          "metadata": {
            "tags": [],
            "needs_background": "light"
          }
        }
      ]
    },
    {
      "cell_type": "markdown",
      "metadata": {
        "id": "s0bRQGdRyA3-"
      },
      "source": [
        "* Normalización"
      ]
    },
    {
      "cell_type": "code",
      "metadata": {
        "id": "0ag2poTLl8ix"
      },
      "source": [
        "# normalicemos los datos\n",
        "xdata =x_data/max(x_data)\n",
        "ydata =y_data/max(y_data)"
      ],
      "execution_count": 109,
      "outputs": []
    },
    {
      "cell_type": "markdown",
      "metadata": {
        "id": "X2O0cqcGyDAW"
      },
      "source": [
        "* Modelo"
      ]
    },
    {
      "cell_type": "code",
      "metadata": {
        "id": "NKAozUlHkiiL"
      },
      "source": [
        "from scipy.optimize import curve_fit\n",
        "\n",
        "# construcción del modelo, función sigmoide\n",
        "def sigmoid(x, Beta_1, Beta_2):\n",
        "     y = 1 / (1 + np.exp(-Beta_1*(x-Beta_2)))\n",
        "     return y"
      ],
      "execution_count": 110,
      "outputs": []
    },
    {
      "cell_type": "code",
      "metadata": {
        "colab": {
          "base_uri": "https://localhost:8080/",
          "height": 351
        },
        "id": "8jYRmqZilm6T",
        "outputId": "c4680295-d657-4b03-ba46-bf4ccef654e9"
      },
      "source": [
        "popt, pcov = curve_fit(sigmoid, xdata, ydata) # popt: parametros, pcov: covarianza\n",
        "#imprimamos los parámetros\n",
        "print(\" beta_1 = %f, beta_2 = %f\" % (popt[0], popt[1])) \n",
        "\n",
        "# Visualización del modelo\n",
        "x = np.linspace(1527510400.0, 1581292800.0, 259200)\n",
        "x = x/max(x)\n",
        "plt.figure(figsize=(8,5))\n",
        "y = sigmoid(x, popt[0], popt[1]) # modficados manualmente\n",
        "plt.plot(xdata, ydata, 'ro', label='Datos')\n",
        "plt.plot(x,y, linewidth=3.0, label='Ajuste')\n",
        "plt.legend(loc='best')\n",
        "plt.ylabel('Producción Acumulada')\n",
        "plt.xlabel('Tiempo')\n",
        "plt.show()"
      ],
      "execution_count": 121,
      "outputs": [
        {
          "output_type": "stream",
          "text": [
            " beta_1 = 686.253808, beta_2 = 0.978013\n"
          ],
          "name": "stdout"
        },
        {
          "output_type": "display_data",
          "data": {
            "image/png": "[encoded data removed]",
            "text/plain": [
              "<Figure size 576x360 with 1 Axes>"
            ]
          },
          "metadata": {
            "tags": [],
            "needs_background": "light"
          }
        }
      ]
    },
    {
      "cell_type": "markdown",
      "metadata": {
        "id": "OLCo1aM7G2wt"
      },
      "source": [
        "<p><a name=\"pythonIntro\"></a></p>\n",
        "\n",
        "# 2) Introducción a Python\n",
        "\n",
        "[[Contenidos]](#contents)\n",
        "\n",
        "El objetivo de la presente sección es el de suministrar al lector una breve introducción al lenguaje Python, y ayudar a los principiantes a familiarizarse con dicho lenguaje."
      ]
    }
  ]
}